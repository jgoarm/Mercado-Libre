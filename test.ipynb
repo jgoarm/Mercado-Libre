{
 "cells": [
  {
   "cell_type": "code",
   "execution_count": 29,
   "metadata": {},
   "outputs": [],
   "source": [
    "def isMutant (dna) :\n",
    "    n = len(dna)\n",
    "\n",
    "    dna_trans = []\n",
    "    for i in range(n) :\n",
    "        l = []\n",
    "        for j in range(n) :\n",
    "            l.append(dna[j][i])\n",
    "        dna_trans.append(l)\n",
    "\n",
    "    def check (x) :\n",
    "        count = 0\n",
    "        for row in x :\n",
    "            for i in range(n - 3) :\n",
    "                s = set(row[i:i + 4])\n",
    "                if len(s) == 1 :\n",
    "                    count += 1\n",
    "                    if count == 2 : \n",
    "                        return True\n",
    "    check (dna)\n",
    "    check (dna_trans)\n",
    "    #return False"
   ]
  },
  {
   "cell_type": "code",
   "execution_count": 30,
   "metadata": {},
   "outputs": [],
   "source": [
    "dna = ['ATGCGA','CAGTGC','TTATGT','AAAAGG','CGCCTA','TCACTG']\n",
    "isMutant (dna)"
   ]
  },
  {
   "cell_type": "code",
   "execution_count": 12,
   "metadata": {},
   "outputs": [
    {
     "data": {
      "text/plain": [
       "False"
      ]
     },
     "execution_count": 12,
     "metadata": {},
     "output_type": "execute_result"
    }
   ],
   "source": [
    "import numpy as np\n",
    "\n",
    "def isMutant (dna) :\n",
    "    count = 0\n",
    "    n = len(dna)\n",
    "\n",
    "    dna_matrix =[]\n",
    "    for row in dna :\n",
    "        row = list(row)\n",
    "        dna_matrix.append(row)\n",
    "\n",
    "    dna_mirror =[]\n",
    "    for row in dna :\n",
    "        row = row[::-1]\n",
    "        dna_mirror.append(row)\n",
    "\n",
    "    dna_trans = []\n",
    "    for i in range(n) :\n",
    "        l = []\n",
    "        for j in range(n) :\n",
    "            l.append(dna[j][i])\n",
    "        dna_trans.append(l)\n",
    "\n",
    "    \"\"\"for row in dna :\n",
    "        for i in range(n - 3) :\n",
    "            s = set(row[i:i + 4])\n",
    "            if len(s) == 1 :\n",
    "                count += 1\n",
    "                if count == 2 : \n",
    "                    return True\n",
    "\n",
    "    for row in dna_trans :\n",
    "        for i in range(n - 3) :\n",
    "            s = set(row[i:i + 4])\n",
    "            if len(s) == 1 :\n",
    "                count += 1\n",
    "                if count == 2 : \n",
    "                    return True\"\"\"\n",
    "\n",
    "    for i in range(1-n,n,1) :\n",
    "        diag = list(np.diag(dna_matrix, i))\n",
    "        if len(diag) >= 4 :\n",
    "            for j in range(n - 3) :\n",
    "                s = set(row[j:j + 4])\n",
    "                if len(s) == 1 :\n",
    "                    count += 1\n",
    "                    if count == 1 : \n",
    "                        return True\n",
    "\n",
    "    for i in range(1-n,n,1) :\n",
    "        diag = list(np.diag(dna_mirror, i))\n",
    "        if len(diag) >= 4 :\n",
    "            for j in range(n - 3) :\n",
    "                s = set(row[j:j + 4])\n",
    "                if len(s) == 1 :\n",
    "                    count += 1\n",
    "                    if count == 1 : \n",
    "                        return True\n",
    "\n",
    "    return False\n",
    "\n",
    "dna = ['ATGCGA','CAGTGC','TTATGT','AGAAGG','CCCCTA','TCACTG']\n",
    "isMutant (dna)"
   ]
  },
  {
   "cell_type": "code",
   "execution_count": 11,
   "metadata": {},
   "outputs": [
    {
     "data": {
      "text/plain": [
       "False"
      ]
     },
     "execution_count": 11,
     "metadata": {},
     "output_type": "execute_result"
    }
   ],
   "source": [
    "dna = ['ATGCGA','CAGTGC','TTATGT','AGAAGG','CCCCTA','TCACTG']\n",
    "isMutant (dna)"
   ]
  },
  {
   "cell_type": "code",
   "execution_count": 8,
   "metadata": {},
   "outputs": [
    {
     "data": {
      "text/plain": [
       "[['A', 'T', 'G', 'C', 'G', 'A'],\n",
       " ['C', 'A', 'G', 'T', 'G', 'C'],\n",
       " ['T', 'T', 'A', 'T', 'G', 'T'],\n",
       " ['A', 'G', 'A', 'A', 'G', 'G'],\n",
       " ['C', 'C', 'C', 'C', 'T', 'A'],\n",
       " ['T', 'C', 'A', 'C', 'T', 'G']]"
      ]
     },
     "execution_count": 8,
     "metadata": {},
     "output_type": "execute_result"
    }
   ],
   "source": [
    "dna = ['ATGCGA','CAGTGC','TTATGT','AGAAGG','CCCCTA','TCACTG']\n",
    "dna_matrix =[]\n",
    "for row in dna :\n",
    "    row = list(row)\n",
    "    dna_matrix.append(row)\n",
    "dna_matrix"
   ]
  },
  {
   "cell_type": "code",
   "execution_count": 21,
   "metadata": {},
   "outputs": [
    {
     "data": {
      "text/plain": [
       "[['A', 'T', 'G', 'C', 'G', 'A'],\n",
       " ['C', 'A', 'G', 'T', 'G', 'C'],\n",
       " ['T', 'T', 'A', 'T', 'G', 'T'],\n",
       " ['A', 'G', 'A', 'A', 'G', 'G'],\n",
       " ['C', 'C', 'C', 'C', 'T', 'A'],\n",
       " ['T', 'C', 'A', 'C', 'T', 'G']]"
      ]
     },
     "execution_count": 21,
     "metadata": {},
     "output_type": "execute_result"
    }
   ],
   "source": [
    "dna = ['ATGCGA','CAGTGC','TTATGT','AGAAGG','CCCCTA','TCACTG']\n",
    "dna_matrix =[]\n",
    "for row in dna :\n",
    "    row = list(row)\n",
    "    dna_matrix.append(row)\n",
    "dna_matrix"
   ]
  },
  {
   "cell_type": "code",
   "execution_count": 23,
   "metadata": {},
   "outputs": [
    {
     "name": "stdout",
     "output_type": "stream",
     "text": [
      "['T', 'C', 'A', 'C', 'T', 'G']\n"
     ]
    }
   ],
   "source": [
    "print(row)"
   ]
  },
  {
   "cell_type": "code",
   "execution_count": 25,
   "metadata": {},
   "outputs": [
    {
     "data": {
      "text/plain": [
       "['T', 'C', 'A', 'C', 'T', 'G']"
      ]
     },
     "execution_count": 25,
     "metadata": {},
     "output_type": "execute_result"
    }
   ],
   "source": [
    "list_diag = []\n",
    "for i in range(len(row)) :\n",
    "    x = row[i]\n",
    "    list_diag.append(x)\n",
    "list_diag"
   ]
  },
  {
   "cell_type": "code",
   "execution_count": 27,
   "metadata": {},
   "outputs": [
    {
     "data": {
      "text/plain": [
       "['T', 'G', 'C', 'C']"
      ]
     },
     "execution_count": 27,
     "metadata": {},
     "output_type": "execute_result"
    }
   ],
   "source": [
    "diag = list(np.diag(dna_matrix, -2))\n",
    "list_diag = []\n",
    "for i in range(len(diag)) :\n",
    "    x = diag[i]\n",
    "    list_diag.append(x)\n",
    "list_diag"
   ]
  },
  {
   "cell_type": "code",
   "execution_count": 10,
   "metadata": {},
   "outputs": [
    {
     "data": {
      "text/plain": [
       "[['A', 'G', 'C', 'G', 'T', 'A'],\n",
       " ['C', 'G', 'T', 'G', 'A', 'C'],\n",
       " ['T', 'G', 'T', 'A', 'T', 'T'],\n",
       " ['G', 'G', 'A', 'A', 'G', 'A'],\n",
       " ['A', 'T', 'C', 'C', 'C', 'C'],\n",
       " ['G', 'T', 'C', 'A', 'C', 'T']]"
      ]
     },
     "execution_count": 10,
     "metadata": {},
     "output_type": "execute_result"
    }
   ],
   "source": [
    "dna_mirror =[]\n",
    "for row in dna_matrix :\n",
    "    row = row[::-1]\n",
    "    dna_mirror.append(row)\n",
    "dna_mirror"
   ]
  },
  {
   "cell_type": "code",
   "execution_count": 1,
   "metadata": {},
   "outputs": [],
   "source": [
    "import yfinance as yf"
   ]
  },
  {
   "cell_type": "code",
   "execution_count": 2,
   "metadata": {},
   "outputs": [
    {
     "name": "stdout",
     "output_type": "stream",
     "text": [
      "[*********************100%***********************]  1 of 1 completed\n"
     ]
    },
    {
     "data": {
      "text/html": [
       "<div>\n",
       "<style scoped>\n",
       "    .dataframe tbody tr th:only-of-type {\n",
       "        vertical-align: middle;\n",
       "    }\n",
       "\n",
       "    .dataframe tbody tr th {\n",
       "        vertical-align: top;\n",
       "    }\n",
       "\n",
       "    .dataframe thead th {\n",
       "        text-align: right;\n",
       "    }\n",
       "</style>\n",
       "<table border=\"1\" class=\"dataframe\">\n",
       "  <thead>\n",
       "    <tr style=\"text-align: right;\">\n",
       "      <th></th>\n",
       "      <th>open</th>\n",
       "      <th>high</th>\n",
       "      <th>low</th>\n",
       "      <th>close</th>\n",
       "      <th>volume</th>\n",
       "    </tr>\n",
       "    <tr>\n",
       "      <th>date</th>\n",
       "      <th></th>\n",
       "      <th></th>\n",
       "      <th></th>\n",
       "      <th></th>\n",
       "      <th></th>\n",
       "    </tr>\n",
       "  </thead>\n",
       "  <tbody>\n",
       "    <tr>\n",
       "      <th>2020-06-21</th>\n",
       "      <td>1.989699</td>\n",
       "      <td>2.111194</td>\n",
       "      <td>1.806766</td>\n",
       "      <td>1.883400</td>\n",
       "      <td>142585</td>\n",
       "    </tr>\n",
       "    <tr>\n",
       "      <th>2020-06-22</th>\n",
       "      <td>1.880668</td>\n",
       "      <td>3.639432</td>\n",
       "      <td>1.797348</td>\n",
       "      <td>3.031074</td>\n",
       "      <td>215493</td>\n",
       "    </tr>\n",
       "    <tr>\n",
       "      <th>2020-06-23</th>\n",
       "      <td>3.021980</td>\n",
       "      <td>3.190308</td>\n",
       "      <td>2.764269</td>\n",
       "      <td>2.857420</td>\n",
       "      <td>282096</td>\n",
       "    </tr>\n",
       "    <tr>\n",
       "      <th>2020-06-24</th>\n",
       "      <td>2.895826</td>\n",
       "      <td>3.163879</td>\n",
       "      <td>2.553977</td>\n",
       "      <td>3.024771</td>\n",
       "      <td>289962</td>\n",
       "    </tr>\n",
       "    <tr>\n",
       "      <th>2020-06-25</th>\n",
       "      <td>3.088163</td>\n",
       "      <td>3.471680</td>\n",
       "      <td>2.933628</td>\n",
       "      <td>3.361433</td>\n",
       "      <td>324257</td>\n",
       "    </tr>\n",
       "    <tr>\n",
       "      <th>...</th>\n",
       "      <td>...</td>\n",
       "      <td>...</td>\n",
       "      <td>...</td>\n",
       "      <td>...</td>\n",
       "      <td>...</td>\n",
       "    </tr>\n",
       "    <tr>\n",
       "      <th>2022-03-14</th>\n",
       "      <td>4.392131</td>\n",
       "      <td>6.158588</td>\n",
       "      <td>4.046318</td>\n",
       "      <td>4.064424</td>\n",
       "      <td>50133696</td>\n",
       "    </tr>\n",
       "    <tr>\n",
       "      <th>2022-03-15</th>\n",
       "      <td>4.069272</td>\n",
       "      <td>4.234039</td>\n",
       "      <td>3.561978</td>\n",
       "      <td>3.569075</td>\n",
       "      <td>13421292</td>\n",
       "    </tr>\n",
       "    <tr>\n",
       "      <th>2022-03-16</th>\n",
       "      <td>3.568174</td>\n",
       "      <td>4.547621</td>\n",
       "      <td>3.516001</td>\n",
       "      <td>4.012244</td>\n",
       "      <td>24099211</td>\n",
       "    </tr>\n",
       "    <tr>\n",
       "      <th>2022-03-17</th>\n",
       "      <td>3.984808</td>\n",
       "      <td>4.284104</td>\n",
       "      <td>3.731918</td>\n",
       "      <td>3.754405</td>\n",
       "      <td>12575519</td>\n",
       "    </tr>\n",
       "    <tr>\n",
       "      <th>2022-03-18</th>\n",
       "      <td>3.754313</td>\n",
       "      <td>3.765429</td>\n",
       "      <td>3.442644</td>\n",
       "      <td>3.651882</td>\n",
       "      <td>7527796</td>\n",
       "    </tr>\n",
       "  </tbody>\n",
       "</table>\n",
       "<p>594 rows × 5 columns</p>\n",
       "</div>"
      ],
      "text/plain": [
       "                open      high       low     close    volume\n",
       "date                                                        \n",
       "2020-06-21  1.989699  2.111194  1.806766  1.883400    142585\n",
       "2020-06-22  1.880668  3.639432  1.797348  3.031074    215493\n",
       "2020-06-23  3.021980  3.190308  2.764269  2.857420    282096\n",
       "2020-06-24  2.895826  3.163879  2.553977  3.024771    289962\n",
       "2020-06-25  3.088163  3.471680  2.933628  3.361433    324257\n",
       "...              ...       ...       ...       ...       ...\n",
       "2022-03-14  4.392131  6.158588  4.046318  4.064424  50133696\n",
       "2022-03-15  4.069272  4.234039  3.561978  3.569075  13421292\n",
       "2022-03-16  3.568174  4.547621  3.516001  4.012244  24099211\n",
       "2022-03-17  3.984808  4.284104  3.731918  3.754405  12575519\n",
       "2022-03-18  3.754313  3.765429  3.442644  3.651882   7527796\n",
       "\n",
       "[594 rows x 5 columns]"
      ]
     },
     "execution_count": 2,
     "metadata": {},
     "output_type": "execute_result"
    }
   ],
   "source": [
    "yf_df = yf.download(f\"OG-USD\")\n",
    "yf_df.columns = ['open', 'high', 'low', 'close', 'adj close', 'volume']\n",
    "yf_df.index.names = ['date']\n",
    "del yf_df['adj close']\n",
    "yf_df"
   ]
  },
  {
   "cell_type": "code",
   "execution_count": 6,
   "metadata": {},
   "outputs": [],
   "source": [
    "yf_df.to_csv('Files/OGUSD.csv')"
   ]
  },
  {
   "cell_type": "code",
   "execution_count": 8,
   "metadata": {},
   "outputs": [],
   "source": [
    "import pandas as pd"
   ]
  },
  {
   "cell_type": "code",
   "execution_count": 9,
   "metadata": {},
   "outputs": [
    {
     "data": {
      "text/plain": [
       "DatetimeIndex(['2021-12-23', '2022-01-04', '2022-01-05', '2022-01-06',\n",
       "               '2022-01-07', '2022-01-08', '2022-01-09', '2022-01-10',\n",
       "               '2022-01-11', '2022-01-18', '2022-01-27', '2022-01-28',\n",
       "               '2022-01-29', '2022-02-07', '2022-02-08', '2022-02-09',\n",
       "               '2022-02-10', '2022-02-11', '2022-02-12', '2022-02-13',\n",
       "               '2022-02-14', '2022-02-15', '2022-02-16', '2022-02-17',\n",
       "               '2022-02-18', '2022-02-19', '2022-02-20', '2022-02-21',\n",
       "               '2022-02-22', '2022-02-23', '2022-02-24', '2022-02-25',\n",
       "               '2022-02-26', '2022-02-27', '2022-02-28', '2022-03-01',\n",
       "               '2022-03-02', '2022-03-03', '2022-03-10', '2022-03-11',\n",
       "               '2022-03-12', '2022-03-13'],\n",
       "              dtype='datetime64[ns]', freq=None)"
      ]
     },
     "execution_count": 9,
     "metadata": {},
     "output_type": "execute_result"
    }
   ],
   "source": [
    "missing = pd.date_range(start=yf_df.index[0], end=yf_df.index[len(yf_df) - 1]).difference(yf_df.index)\n",
    "missing"
   ]
  },
  {
   "cell_type": "code",
   "execution_count": 3,
   "metadata": {},
   "outputs": [],
   "source": [
    "import binance as bnb\n",
    "client = bnb.Client('yp4IdJHY5YdmWMM3KF6fmW8wynwqet3t8PGP4pxkXKJrmomL2Odxo3EUbmLzxVb4', 'mq8rq16gFB132Xd1wkwjya6XMt9UzBZFWhnb2cKiAoWlNV3oikD1Hi7UY1OJarL2')"
   ]
  },
  {
   "cell_type": "code",
   "execution_count": 4,
   "metadata": {},
   "outputs": [],
   "source": [
    "import pandas as pd"
   ]
  },
  {
   "cell_type": "code",
   "execution_count": 5,
   "metadata": {},
   "outputs": [
    {
     "data": {
      "text/html": [
       "<div>\n",
       "<style scoped>\n",
       "    .dataframe tbody tr th:only-of-type {\n",
       "        vertical-align: middle;\n",
       "    }\n",
       "\n",
       "    .dataframe tbody tr th {\n",
       "        vertical-align: top;\n",
       "    }\n",
       "\n",
       "    .dataframe thead th {\n",
       "        text-align: right;\n",
       "    }\n",
       "</style>\n",
       "<table border=\"1\" class=\"dataframe\">\n",
       "  <thead>\n",
       "    <tr style=\"text-align: right;\">\n",
       "      <th></th>\n",
       "      <th>open</th>\n",
       "      <th>high</th>\n",
       "      <th>low</th>\n",
       "      <th>close</th>\n",
       "      <th>volume</th>\n",
       "    </tr>\n",
       "    <tr>\n",
       "      <th>date</th>\n",
       "      <th></th>\n",
       "      <th></th>\n",
       "      <th></th>\n",
       "      <th></th>\n",
       "      <th></th>\n",
       "    </tr>\n",
       "  </thead>\n",
       "  <tbody>\n",
       "    <tr>\n",
       "      <th>2017-08-17</th>\n",
       "      <td>4261.48</td>\n",
       "      <td>4485.39</td>\n",
       "      <td>4200.74</td>\n",
       "      <td>4285.08</td>\n",
       "      <td>795.150377</td>\n",
       "    </tr>\n",
       "    <tr>\n",
       "      <th>2017-08-18</th>\n",
       "      <td>4285.08</td>\n",
       "      <td>4371.52</td>\n",
       "      <td>3938.77</td>\n",
       "      <td>4108.37</td>\n",
       "      <td>1199.888264</td>\n",
       "    </tr>\n",
       "    <tr>\n",
       "      <th>2017-08-19</th>\n",
       "      <td>4108.37</td>\n",
       "      <td>4184.69</td>\n",
       "      <td>3850.00</td>\n",
       "      <td>4139.98</td>\n",
       "      <td>381.309763</td>\n",
       "    </tr>\n",
       "    <tr>\n",
       "      <th>2017-08-20</th>\n",
       "      <td>4120.98</td>\n",
       "      <td>4211.08</td>\n",
       "      <td>4032.62</td>\n",
       "      <td>4086.29</td>\n",
       "      <td>467.083022</td>\n",
       "    </tr>\n",
       "    <tr>\n",
       "      <th>2017-08-21</th>\n",
       "      <td>4069.13</td>\n",
       "      <td>4119.62</td>\n",
       "      <td>3911.79</td>\n",
       "      <td>4016.00</td>\n",
       "      <td>691.743060</td>\n",
       "    </tr>\n",
       "    <tr>\n",
       "      <th>...</th>\n",
       "      <td>...</td>\n",
       "      <td>...</td>\n",
       "      <td>...</td>\n",
       "      <td>...</td>\n",
       "      <td>...</td>\n",
       "    </tr>\n",
       "    <tr>\n",
       "      <th>2022-03-11</th>\n",
       "      <td>39422.01</td>\n",
       "      <td>40236.26</td>\n",
       "      <td>38223.60</td>\n",
       "      <td>38729.57</td>\n",
       "      <td>59018.764200</td>\n",
       "    </tr>\n",
       "    <tr>\n",
       "      <th>2022-03-12</th>\n",
       "      <td>38729.57</td>\n",
       "      <td>39486.71</td>\n",
       "      <td>38660.52</td>\n",
       "      <td>38807.36</td>\n",
       "      <td>24034.364320</td>\n",
       "    </tr>\n",
       "    <tr>\n",
       "      <th>2022-03-13</th>\n",
       "      <td>38807.35</td>\n",
       "      <td>39310.00</td>\n",
       "      <td>37578.51</td>\n",
       "      <td>37777.34</td>\n",
       "      <td>32791.823590</td>\n",
       "    </tr>\n",
       "    <tr>\n",
       "      <th>2022-03-14</th>\n",
       "      <td>37777.35</td>\n",
       "      <td>39947.12</td>\n",
       "      <td>37555.00</td>\n",
       "      <td>39671.37</td>\n",
       "      <td>46945.453750</td>\n",
       "    </tr>\n",
       "    <tr>\n",
       "      <th>2022-03-15</th>\n",
       "      <td>39671.37</td>\n",
       "      <td>39804.68</td>\n",
       "      <td>38098.33</td>\n",
       "      <td>39050.75</td>\n",
       "      <td>30086.847690</td>\n",
       "    </tr>\n",
       "  </tbody>\n",
       "</table>\n",
       "<p>1672 rows × 5 columns</p>\n",
       "</div>"
      ],
      "text/plain": [
       "                open      high       low     close        volume\n",
       "date                                                            \n",
       "2017-08-17   4261.48   4485.39   4200.74   4285.08    795.150377\n",
       "2017-08-18   4285.08   4371.52   3938.77   4108.37   1199.888264\n",
       "2017-08-19   4108.37   4184.69   3850.00   4139.98    381.309763\n",
       "2017-08-20   4120.98   4211.08   4032.62   4086.29    467.083022\n",
       "2017-08-21   4069.13   4119.62   3911.79   4016.00    691.743060\n",
       "...              ...       ...       ...       ...           ...\n",
       "2022-03-11  39422.01  40236.26  38223.60  38729.57  59018.764200\n",
       "2022-03-12  38729.57  39486.71  38660.52  38807.36  24034.364320\n",
       "2022-03-13  38807.35  39310.00  37578.51  37777.34  32791.823590\n",
       "2022-03-14  37777.35  39947.12  37555.00  39671.37  46945.453750\n",
       "2022-03-15  39671.37  39804.68  38098.33  39050.75  30086.847690\n",
       "\n",
       "[1672 rows x 5 columns]"
      ]
     },
     "execution_count": 5,
     "metadata": {},
     "output_type": "execute_result"
    }
   ],
   "source": [
    "first_date = client._get_earliest_valid_timestamp(f\"BTCUSDT\", '1d')\n",
    "historical = client.get_historical_klines(f\"BTCUSDT\", '1d', first_date)\n",
    "for line in historical :\n",
    "    del line[6:]\n",
    "BTC_global = pd.DataFrame(historical, columns=['date', 'open', 'high', 'low', 'close', 'volume'])\n",
    "BTC_global.set_index('date', inplace=True)\n",
    "BTC_global.index = pd.to_datetime(BTC_global.index, unit='ms')\n",
    "\n",
    "cols = ['open', 'high', 'low', 'close', 'volume']\n",
    "for col in cols :\n",
    "    BTC_global[col] = [float(i) for i in BTC_global[col]]\n",
    "\n",
    "BTC_global"
   ]
  }
 ],
 "metadata": {
  "interpreter": {
   "hash": "69eb92836b941e979072a76c7fcfffe5419cca933cedd02cfafbdfca1a93358c"
  },
  "kernelspec": {
   "display_name": "Python 3.9.10 64-bit",
   "language": "python",
   "name": "python3"
  },
  "language_info": {
   "codemirror_mode": {
    "name": "ipython",
    "version": 3
   },
   "file_extension": ".py",
   "mimetype": "text/x-python",
   "name": "python",
   "nbconvert_exporter": "python",
   "pygments_lexer": "ipython3",
   "version": "3.9.11"
  },
  "orig_nbformat": 4
 },
 "nbformat": 4,
 "nbformat_minor": 2
}
